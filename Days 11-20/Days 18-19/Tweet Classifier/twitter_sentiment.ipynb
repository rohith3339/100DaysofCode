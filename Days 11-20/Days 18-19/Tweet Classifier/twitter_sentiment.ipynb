{
 "cells": [
  {
   "cell_type": "code",
   "execution_count": 35,
   "metadata": {},
   "outputs": [],
   "source": [
    "# Importing necessary libraries\n",
    "\n",
    "import tweepy\n",
    "import re\n",
    "import pickle\n",
    "\n",
    "from tweepy import OAuthHandler"
   ]
  },
  {
   "cell_type": "code",
   "execution_count": 36,
   "metadata": {},
   "outputs": [],
   "source": [
    "# Initializing the keys\n",
    "consumer_key = \"xxxxxxxxxxxxxxxxxxxx\"\n",
    "consumer_secret = \"xxxxxxxxxxxxxxxxxxxx\"\n",
    "access_token = \"xxxxxxxxxxxxxxxxxxxxxxxxxxxxxxxxxxx\"\n",
    "access_secret = \"xxxxxxxxxxxxxxxxxxxxxxxxxxxxxxxxxx\"\n"
   ]
  },
  {
   "cell_type": "code",
   "execution_count": 37,
   "metadata": {},
   "outputs": [],
   "source": [
    "#Accessing tweets from Twitter using the app we created\n",
    "\n",
    "auth = OAuthHandler(consumer_key,consumer_secret) # Verifies the authenticity of Twitter App\n",
    "auth.set_access_token(access_token, access_secret) # Verifies the permissions of the access keys\n",
    "args = ['AmazonFire'] # Tweets related to (search parameter)\n",
    "api= tweepy.API(auth,timeout=12) # Timeout after 12 seconds"
   ]
  },
  {
   "cell_type": "code",
   "execution_count": 38,
   "metadata": {},
   "outputs": [],
   "source": [
    "list_tweets = []\n",
    "\n",
    "query = args[0]\n",
    "if len(args) == 1: # Verifying that we are only looking for single search parameter\n",
    "    for status in tweepy.Cursor(api.search,q=query+\" -filter:retweets\",lang='en',result_type='recent').items(200): #Filtering retweets out, setting language to english, and looking for most recent tweets and the top 200 tweets of them\n",
    "        list_tweets.append(status.text) # Appending fetched tweets(JSON Object: status.text) to a list\n",
    "        \n",
    "# print(list_tweets)"
   ]
  },
  {
   "cell_type": "code",
   "execution_count": 39,
   "metadata": {},
   "outputs": [],
   "source": [
    "# Using our pre-trained model and classifiers to classify the fetched tweets data\n",
    "\n",
    "with open('tfidfmodel.pickle','rb') as f:\n",
    "    vectorizer = pickle.load(f)\n",
    "    \n",
    "with open('classifier.pickle','rb') as f:\n",
    "    clf = pickle.load(f)\n",
    "    \n",
    "# clf.predict(vectorizer.transform(['Ganesh is a great guy'])) #Testing out with a sample sentence"
   ]
  },
  {
   "cell_type": "code",
   "execution_count": 40,
   "metadata": {},
   "outputs": [
    {
     "data": {
      "image/png": "[encoded data removed]",
      "text/plain": [
       "<Figure size 432x288 with 1 Axes>"
      ]
     },
     "metadata": {
      "needs_background": "light"
     },
     "output_type": "display_data"
    }
   ],
   "source": [
    "# Pre-processing the fetched tweets\n",
    "\n",
    "# test_list_tweets = [\"I ain't afraid  of  what's gonna happen &%$^ @$@!\",\"They're doing it all  knowingly on Day 5, Day6\"]\n",
    "# Above is a test list to check whether our pre-processing working well or not\n",
    "\n",
    "tot_pos = 0\n",
    "tot_neg = 0\n",
    "\n",
    "for tweet in list_tweets:\n",
    "    tweet = re.sub(r\"^https://t.co/[a-zA-Z0-9]*\\s\",\"\",tweet) # Removing twitter shortened links from start of tweets\n",
    "    tweet = re.sub(r\"\\s+https://t.co/[a-zA-Z0-9]*\\s\",\"\",tweet) # Removing twitter shortened links in between tweets\n",
    "    tweet = re.sub(r\"\\s+https://t.co/[a-zA-Z0-9]*$\",\"\",tweet) # Removing twitter shortened links from end of tweets\n",
    "    tweet = tweet.lower()\n",
    "    tweet = re.sub(r\"let's\",\" lets\",tweet) # To avoid out of context like below\n",
    "    tweet = re.sub(r\"'s\",\" is\",tweet) # Sometimes goes out of context like let's != let is\n",
    "    tweet = re.sub(r\"'m\",\" am\",tweet)\n",
    "    tweet = re.sub(r\"'re\",\" are\",tweet)\n",
    "    tweet = re.sub(r\"n't\",\" not\",tweet)\n",
    "    tweet = re.sub(r\"ai not\",\"am not\",tweet) # Above statement causes this in somecases. So as a precuation using this.\n",
    "    tweet = re.sub(r\"'re'\",\" are\",tweet)\n",
    "    tweet = re.sub(r\"\\W\",\" \",tweet) # Replacing special characters with single space\n",
    "    tweet = re.sub(r\"\\d\",\"\",tweet) # Removing numericals out of tweets\n",
    "    tweet = re.sub(r\"\\s+[a-z]\\s+\",\" \",tweet) # Replacing all single characters in middle of a tweet with a single space\n",
    "    tweet = re.sub(r\"^[a-z]\\s+\",\" \",tweet) # Replacing all single characters at start of a tweet with a single space\n",
    "    tweet = re.sub(r\"\\s+[a-z]$\",\" \",tweet) # Replacing all single characters at end of a tweet with a single space\n",
    "    tweet = re.sub(r\"\\s+\",\" \",tweet) # Replacing multiple consecutive white spaces with a single white space\n",
    "    # print(tweet,\"\\n\")\n",
    "    \n",
    "    # Predicting the tweets sentiment using our pre-trained model and classifier\n",
    "    sent = clf.predict(vectorizer.transform([tweet]).toarray())\n",
    "    if sent[0] == 1:\n",
    "        tot_pos += 1\n",
    "    else:\n",
    "        tot_neg += 1 \n",
    "    \n",
    "# print(tweet,\":\",sent) # Tweet vs Predicted Sentiment\n",
    "    \n",
    "# print(\"\\nPositive Documents:\",tot_pos,\"\\nNegative Documents:\",tot_neg)\n",
    "\n",
    "# Visualizing the sentimental analysis\n",
    "\n",
    "# Plotting the bar chart\n",
    "import matplotlib.pyplot as plt\n",
    "import numpy as np\n",
    "\n",
    "objects = ['Positive','Negative']\n",
    "y_pos = np.arange(len(objects))\n",
    "\n",
    "plt.bar(y_pos,[tot_pos,tot_neg],alpha=0.5)\n",
    "plt.xticks(y_pos,objects)\n",
    "plt.ylabel('Number')\n",
    "plt.title('Number of positive and negative tweets')\n",
    "\n",
    "plt.show()"
   ]
  },
  {
   "cell_type": "code",
   "execution_count": null,
   "metadata": {},
   "outputs": [],
   "source": []
  }
 ],
 "metadata": {
  "kernelspec": {
   "display_name": "Python 3",
   "language": "python",
   "name": "python3"
  },
  "language_info": {
   "codemirror_mode": {
    "name": "ipython",
    "version": 3
   },
   "file_extension": ".py",
   "mimetype": "text/x-python",
   "name": "python",
   "nbconvert_exporter": "python",
   "pygments_lexer": "ipython3",
   "version": "3.6.8"
  }
 },
 "nbformat": 4,
 "nbformat_minor": 2
}
